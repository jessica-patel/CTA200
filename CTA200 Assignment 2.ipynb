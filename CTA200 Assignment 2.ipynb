{
 "cells": [
  {
   "cell_type": "markdown",
   "metadata": {},
   "source": [
    "# CTA200: Assignment 2\n",
    "#### Jessica Patel"
   ]
  },
  {
   "cell_type": "code",
   "execution_count": 1,
   "metadata": {},
   "outputs": [],
   "source": [
    "import numpy as np\n",
    "import matplotlib.pyplot as plt\n",
    "from scipy.integrate import ode\n",
    "\n",
    "plt.rcParams[\"figure.figsize\"] = (7, 7)\n",
    "plt.rcParams['axes.labelsize'] = 16\n",
    "plt.rcParams['axes.titlesize'] = 16\n",
    "plt.rcParams['xtick.labelsize'] = 14\n",
    "plt.rcParams['ytick.labelsize'] = 14"
   ]
  },
  {
   "cell_type": "markdown",
   "metadata": {},
   "source": [
    "## Question 1"
   ]
  },
  {
   "cell_type": "code",
   "execution_count": 2,
   "metadata": {},
   "outputs": [],
   "source": [
    "# First method derivative\n",
    "def deriv1(f, x0, h):\n",
    "    \"\"\"Computes a numerical approximation of the derivative of a\n",
    "    function at a given x-value x0, with stepsize h using the \n",
    "    first method.\n",
    "    \n",
    "    Parameters:\n",
    "    f: python function\n",
    "    x0: float\n",
    "    h: float for stepsize where 0<h<1\n",
    "    \n",
    "    Returns:\n",
    "    The approximate derivative as a python function.\n",
    "    \"\"\"\n",
    "    return ( f(x0+h) - f(x0) ) / h\n",
    "\n",
    "# Second method derivative\n",
    "def deriv2(f, x0, h):\n",
    "    \"\"\"Computes a better numerical approximation of the derivative\n",
    "    of a function at a given x-value x0, with stepsize h using the\n",
    "    second method.\n",
    "    \n",
    "    Parameters:\n",
    "    f: python function\n",
    "    x0: float\n",
    "    h: float for stepsize where 0<h<1\n",
    "    \n",
    "    Returns:\n",
    "    The approximate derivative as a python function.\n",
    "    \"\"\"\n",
    "    return ( f(x0+h) - f(x0-h) ) / (2*h)"
   ]
  },
  {
   "cell_type": "code",
   "execution_count": 3,
   "metadata": {},
   "outputs": [
    {
     "name": "stdout",
     "output_type": "stream",
     "text": [
      "Derivative approximations over various h\n",
      "\n",
      "Method 1: [0.9884 0.9784 0.9653 0.949  0.9296 0.9073 0.8822 0.8544 0.824 ]\n",
      "\n",
      "Method 2: [0.9933 0.9884 0.9801 0.9687 0.9541 0.9364 0.9157 0.8922 0.866 ]\n"
     ]
    }
   ],
   "source": [
    "# Choosing a variety of h-values\n",
    "hs = np.arange(0.1, 1, 0.1)\n",
    "\n",
    "# Creating empty arrays for the outputs, and iterating\n",
    "# For method 1\n",
    "out_1 = []\n",
    "for i in hs:\n",
    "    out_1.append(deriv1(f=np.sin, x0=0.1, h=i))\n",
    "    \n",
    "# For method 2\n",
    "out_2 = []\n",
    "for i in hs:\n",
    "    out_2.append(deriv2(f=np.sin, x0=0.1, h=i))\n",
    "\n",
    "print('Derivative approximations over various h')\n",
    "print()\n",
    "print('Method 1:', np.round(out_1, 4))\n",
    "print()\n",
    "print('Method 2:', np.round(out_2, 4))"
   ]
  },
  {
   "cell_type": "code",
   "execution_count": 4,
   "metadata": {},
   "outputs": [
    {
     "data": {
      "image/png": "[encoded data removed]",
      "text/plain": [
       "<Figure size 432x288 with 1 Axes>"
      ]
     },
     "metadata": {
      "needs_background": "light"
     },
     "output_type": "display_data"
    }
   ],
   "source": [
    "# Calculating the error compared to the analytical derivative\n",
    "\n",
    "# Creating empty arrays and iterating\n",
    "# For method 1\n",
    "errors_1 = []\n",
    "for i in hs:\n",
    "    d_n = deriv1(np.sin, 0.1, i) # numerical derivative\n",
    "    d_a = np.cos(0.1) # analytical derivative\n",
    "    error_calc = abs(d_n - d_a) / d_a\n",
    "    errors_1.append(error_calc)\n",
    "\n",
    "# For method 2\n",
    "errors_2 = []\n",
    "for i in hs:\n",
    "    d_n = deriv2(np.sin, 0.1, i) # numerical derivative\n",
    "    d_a = np.cos(0.1) # analytical derivative\n",
    "    error_calc = abs(d_n - d_a) / d_a\n",
    "    errors_2.append(error_calc)\n",
    "\n",
    "plt.title('Error of Approximations Compared to Analytical Derivative')\n",
    "plt.loglog(hs, errors_1, label = '1st Method', c = 'c')\n",
    "plt.loglog(hs, errors_2, label = '2nd Method', c='purple')\n",
    "plt.xlabel('Stepsize (log)')\n",
    "plt.ylabel('Error (log)')\n",
    "plt.legend(fontsize = 14)\n",
    "plt.savefig('Q1.pdf')"
   ]
  },
  {
   "cell_type": "markdown",
   "metadata": {},
   "source": [
    "## Question 2"
   ]
  },
  {
   "cell_type": "code",
   "execution_count": 5,
   "metadata": {},
   "outputs": [],
   "source": [
    "def zs(c, i_lim, z_lim):\n",
    "    \"\"\" Computes and saves the iterations of the z_(i+1) equation for\n",
    "    a given complex number until a limit of iterations or size of \n",
    "    the iteration is reached.\n",
    "    \n",
    "    Parameters:\n",
    "    c = complex number\n",
    "    i_lim = chosen limit of iterations\n",
    "    z_lim = chosen limit of size of iterations\n",
    "    \n",
    "    Returns:\n",
    "    An array of the iterations of the equation.\n",
    "    \"\"\"\n",
    "    z_i = [] # empty array to put iterations in\n",
    "    # initializing:\n",
    "    i = 0\n",
    "    z_0 = 0\n",
    "    while i < i_lim: # limit of iterations\n",
    "        if i == 0:\n",
    "            z_1 = z_0**2 + c # z_(i+1) for i = 0\n",
    "            z_i.append(z_1)\n",
    "        if i > 0:\n",
    "            z_ip1 = z_i[i-1]**2 + c # z_(i+1)\n",
    "            z_i.append(z_ip1)\n",
    "        # telling it to break in it approaches infinity quickly:\n",
    "        if abs(z_i[i]) > z_lim: \n",
    "            break\n",
    "        i += 1\n",
    "    return z_i"
   ]
  },
  {
   "cell_type": "code",
   "execution_count": 6,
   "metadata": {},
   "outputs": [],
   "source": [
    "def image1(x, y):\n",
    "    \"\"\" Determines which points diverge or are bounded (abs(z_i_ < 2)\n",
    "    and then plots them based on their classification.\n",
    "    \n",
    "    Parameters:\n",
    "    x = real component of complex number\n",
    "    y = imaginary component of complex number\n",
    "    \n",
    "    Returns:\n",
    "    Image of the complex plane showing which points diverge or are \n",
    "    bounded.\n",
    "    \"\"\"\n",
    "    # Creating empty arrays for bounded and diverging points:\n",
    "    bounded_xs = []\n",
    "    bounded_ys = []\n",
    "    diverge_xs = []\n",
    "    diverge_ys = []\n",
    "    for i in x:\n",
    "        for k in y:\n",
    "            point = i + 1j * k # making numbers complex for zs() function\n",
    "            point_zs = zs(point, 20, 1e20) # arbitrarily chosen limits - explained in write-up\n",
    "            if abs(point_zs[-1]) < 2:\n",
    "                bounded_xs.append(i)\n",
    "                bounded_ys.append(k)\n",
    "            else:\n",
    "                diverge_xs.append(i)\n",
    "                diverge_ys.append(k)\n",
    "    plt.figure(figsize = (8,8))\n",
    "    plt.scatter(diverge_xs, diverge_ys, c = 'indigo', label = 'Diverging')\n",
    "    plt.scatter(bounded_xs, bounded_ys, c = 'c', s= 2, label = \"Bounded\")\n",
    "    plt.legend(fontsize = 14)"
   ]
  },
  {
   "cell_type": "code",
   "execution_count": 7,
   "metadata": {},
   "outputs": [
    {
     "name": "stdout",
     "output_type": "stream",
     "text": [
      "Wall time: 1min 32s\n"
     ]
    },
    {
     "data": {
      "image/png": "[encoded data removed]",
      "text/plain": [
       "<Figure size 576x576 with 1 Axes>"
      ]
     },
     "metadata": {
      "needs_background": "light"
     },
     "output_type": "display_data"
    }
   ],
   "source": [
    "%%time\n",
    "\n",
    "xs = np.linspace(-2, 2, 1000)\n",
    "ys = np.linspace(-2, 2, 1000)\n",
    "\n",
    "image1(xs, ys)\n",
    "plt.title('Diverging and Bounded Points')\n",
    "plt.xlabel('x (Re)')\n",
    "plt.ylabel('y (Im)')\n",
    "plt.savefig('Q2_1.pdf')"
   ]
  },
  {
   "cell_type": "code",
   "execution_count": 8,
   "metadata": {},
   "outputs": [],
   "source": [
    "def image2(x,y):\n",
    "    \"\"\" Determines after how many iterations points diverge and then\n",
    "    plots a colour map.\n",
    "    \n",
    "    Parameters:\n",
    "    x = real component of complex number\n",
    "    y = imaginary component of complex number\n",
    "    \n",
    "    Returns:\n",
    "    Colour map of the complex plane showing after how many iterations\n",
    "    points diverge.\n",
    "    \"\"\"\n",
    "    # Creating empty arrays to iterate into:\n",
    "    # (X and Y keep track of coordinates which amount keeps track of their \n",
    "    # number of iterations)\n",
    "    X = []\n",
    "    Y = []\n",
    "    amount = []\n",
    "    for i in x:\n",
    "        for k in y:\n",
    "            X.append(i)\n",
    "            Y.append(k)\n",
    "            point = i + 1j * k # making numbers complex for zs() function\n",
    "            # making z_lim = 2 to find number of z_i's it takes to reach abs(z_i) > 2:\n",
    "            amount.append(np.size(zs(point, 20, 2)))\n",
    "    plt.figure(figsize = (8,8))\n",
    "    plt.scatter(X, Y, c=amount, cmap = 'viridis')\n",
    "    plt.colorbar(label = 'Number of Iterations')"
   ]
  },
  {
   "cell_type": "code",
   "execution_count": null,
   "metadata": {},
   "outputs": [],
   "source": [
    "%%time\n",
    "\n",
    "image2(xs, ys)\n",
    "plt.title('Number of Iterations Until Divergence')\n",
    "plt.xlabel('x (Re)')\n",
    "plt.ylabel('y (Im)')\n",
    "plt.savefig('Q2_2.pdf')"
   ]
  },
  {
   "cell_type": "markdown",
   "metadata": {},
   "source": [
    "## Question 3"
   ]
  },
  {
   "cell_type": "code",
   "execution_count": null,
   "metadata": {},
   "outputs": [],
   "source": [
    "def ODE(t, y, N, beta, gamma):\n",
    "    \"\"\"\n",
    "    Returns ODE's for SIR model of disease spread.\n",
    "    \n",
    "    Parameters:\n",
    "    t: time\n",
    "    y: array of [S, I, R]\n",
    "    N: population size\n",
    "    beta: float of fraction that are susceptible\n",
    "    gamma: float of fraction that recovered\n",
    "    \"\"\"\n",
    "    S, I, R = y\n",
    "    return [-(beta*S*I)/N, (beta*S*I)/N - gamma*I, gamma*I]\n",
    "\n",
    "# Set the initial conditions\n",
    "y0 = [999, 1, 0]\n",
    "\n",
    "# Choose N, beta, gamma\n",
    "N = 1000\n",
    "beta_gamma = [[0.8, 0.5], [0.6, 0.3], [0.4, 0.1]]\n",
    "\n",
    "# Begin and end time, timestep\n",
    "t0 = 0\n",
    "t_end = 200\n",
    "dt = 0.1\n",
    "\n",
    "# for loop that solves the equations for various beta and gamma values\n",
    "for i in beta_gamma:\n",
    "    \n",
    "    # Array to store the results\n",
    "    times = [t0]\n",
    "    res = [y0]\n",
    "    \n",
    "    solver = ode(ODE).set_integrator('dopri5').set_initial_value(y0, t0).set_f_params(N, i[0], i[1])\n",
    "\n",
    "    # Solve the equation\n",
    "    while solver.successful() and solver.t < t_end:\n",
    "        times.append(solver.t + dt)\n",
    "        res.append(solver.integrate(solver.t + dt))\n",
    "    \n",
    "    S, I, R = np.array(res).T\n",
    "    times = np.array(times)\n",
    "\n",
    "    # plot the results\n",
    "    plt.figure(figsize = (7,7))\n",
    "    plt.title('SIR Model Over Time for (beta, gamma)=' + str(i), fontsize = 16)\n",
    "    plt.xlabel('Time', fontsize = 16)\n",
    "    plt.ylabel('Number of People', fontsize = 16)\n",
    "    plt.plot(times, S, label = 'Susceptible', c = 'c')\n",
    "    plt.plot(times, I, label = 'Infected', c = 'purple')\n",
    "    plt.plot(times, R, label = 'Recovered', c = 'forestgreen')\n",
    "    plt.legend(fontsize = 14)\n",
    "    plt.grid(alpha = 0.6)\n",
    "    plt.savefig('Q3_'+str(i) + '.pdf')"
   ]
  }
 ],
 "metadata": {
  "kernelspec": {
   "display_name": "Python 3",
   "language": "python",
   "name": "python3"
  },
  "language_info": {
   "codemirror_mode": {
    "name": "ipython",
    "version": 3
   },
   "file_extension": ".py",
   "mimetype": "text/x-python",
   "name": "python",
   "nbconvert_exporter": "python",
   "pygments_lexer": "ipython3",
   "version": "3.7.4"
  }
 },
 "nbformat": 4,
 "nbformat_minor": 4
}
